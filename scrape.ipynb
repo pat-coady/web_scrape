{
 "cells": [
  {
   "cell_type": "markdown",
   "id": "991dc1f0",
   "metadata": {},
   "source": [
    "## download all pdf datasheets from product page\n",
    "\n",
    "1. Iterate through each data sheet download item (highly specific to each website)\n",
    "2. Click \"next page\" button, rinse, and repeat"
   ]
  },
  {
   "cell_type": "code",
   "execution_count": null,
   "id": "b5a7e643",
   "metadata": {},
   "outputs": [],
   "source": [
    "from selenium import webdriver\n",
    "from selenium.webdriver.chrome.options import Options\n",
    "from selenium.webdriver.common.by import By\n",
    "from selenium.webdriver.common.keys import Keys\n",
    "import time\n",
    "import os"
   ]
  },
  {
   "cell_type": "code",
   "execution_count": null,
   "id": "d678400d",
   "metadata": {},
   "outputs": [],
   "source": [
    "# open web driver to Chromium (headless mode)\n",
    "# don't open pdf viewer, don't prompt before download, set download dir\n",
    "chrome_options = Options()\n",
    "chrome_options.add_argument(\"--headless=new\")\n",
    "chrome_options.add_argument(\"--window-size=2560,1440\")\n",
    "chrome_options.add_experimental_option(\"prefs\", {\n",
    "    \"download.default_directory\": os.getcwd() + '/downloads',\n",
    "    \"download.prompt_for_download\": False,\n",
    "    \"plugins.always_open_pdf_externally\": True,\n",
    "})\n",
    "driver = webdriver.Chrome(options=chrome_options)"
   ]
  },
  {
   "cell_type": "code",
   "execution_count": null,
   "id": "74ec82b6",
   "metadata": {},
   "outputs": [],
   "source": [
    "# feed in starting url for page 1 - ADI buck converters in this case\n",
    "start_url = \"https://www.analog.com/en/parametricsearch/11491#/\"\n",
    "driver.get(start_url)"
   ]
  },
  {
   "cell_type": "code",
   "execution_count": null,
   "id": "98ef0774",
   "metadata": {
    "scrolled": true
   },
   "outputs": [],
   "source": [
    "i = 0\n",
    "while True:\n",
    "    elements = driver.find_elements(By.CLASS_NAME, 'link__container__text-icon')\n",
    "    for element in elements:\n",
    "        # send in ENTER key instead of mouse click to avoid scrolling complications\n",
    "        element.send_keys(Keys.ENTER)\n",
    "        time.sleep(5)  # maybe not needed, but to be polite and also give page time to load\n",
    "        i += 1\n",
    "    # find navigation arrows\n",
    "    elements = driver.find_elements(By.CLASS_NAME, 'arrow-button')\n",
    "    # 2nd element is right arrow (i.e., next page of products)\n",
    "    if elements[1].is_enabled():  # check to see if on last page\n",
    "        elements[1].send_keys(Keys.ENTER)\n",
    "        time.sleep(5)\n",
    "    else:\n",
    "        break\n",
    "driver.quit()\n",
    "print(f'Done. Downloaded {i} datasheets.')"
   ]
  },
  {
   "cell_type": "code",
   "execution_count": null,
   "id": "f8afa65b",
   "metadata": {},
   "outputs": [],
   "source": [
    "# only needed if kernel is interrupted before cell above completes\n",
    "driver.quit()"
   ]
  }
 ],
 "metadata": {
  "kernelspec": {
   "display_name": "Python 3 (ipykernel)",
   "language": "python",
   "name": "python3"
  },
  "language_info": {
   "codemirror_mode": {
    "name": "ipython",
    "version": 3
   },
   "file_extension": ".py",
   "mimetype": "text/x-python",
   "name": "python",
   "nbconvert_exporter": "python",
   "pygments_lexer": "ipython3",
   "version": "3.11.2"
  }
 },
 "nbformat": 4,
 "nbformat_minor": 5
}
